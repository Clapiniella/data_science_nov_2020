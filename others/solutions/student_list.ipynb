{
 "metadata": {
  "language_info": {
   "codemirror_mode": {
    "name": "ipython",
    "version": 3
   },
   "file_extension": ".py",
   "mimetype": "text/x-python",
   "name": "python",
   "nbconvert_exporter": "python",
   "pygments_lexer": "ipython3",
   "version": "3.6.4-final"
  },
  "orig_nbformat": 2,
  "kernelspec": {
   "name": "python36464bitc2077ed07ea84d23aa5b518d224882ab",
   "display_name": "Python 3.6.4 64-bit",
   "language": "python"
  }
 },
 "nbformat": 4,
 "nbformat_minor": 2,
 "cells": [
  {
   "cell_type": "code",
   "execution_count": 9,
   "metadata": {},
   "outputs": [
    {
     "output_type": "stream",
     "name": "stdout",
     "text": [
      "Javier Olcoz\n"
     ]
    }
   ],
   "source": [
    "lista_alumnos = ['María Cagigas','Kapil Dadlani','Daniel del Valle','María del Mar Delgado Domínguez','Estela Falgas','Alfonso Garcia Mateo-Sagasta','Javier Gil Antuñano Foncillas','Juan Guerrero Enriquez','Antonio Leal','Miguel Merry del Val','Roberto Molleda','Javier Olcoz','Ariadna Puigventos','Leonardo Sánchez Soler','Anais villegas', \"Xeles\", \"Alejandro Álex\", \"Andreea\"]\n",
    "\n",
    "import random\n",
    "\n",
    "alumno_aleatorio = random.choice(lista_alumnos)\n",
    "print(alumno_aleatorio)"
   ]
  },
  {
   "cell_type": "code",
   "execution_count": 12,
   "metadata": {},
   "outputs": [
    {
     "output_type": "stream",
     "name": "stdout",
     "text": [
      "seed: 12\n"
     ]
    },
    {
     "output_type": "execute_result",
     "data": {
      "text/plain": [
       "{1: 'Ariadna Puigventos',\n",
       " 2: 'María del Mar Delgado Domínguez',\n",
       " 3: 'Anais villegas',\n",
       " 4: 'Juan Guerrero Enriquez',\n",
       " 5: 'Miguel Merry del Val',\n",
       " 6: 'Javier Olcoz',\n",
       " 7: 'Leonardo Sánchez Soler',\n",
       " 8: 'Roberto Molleda',\n",
       " 9: 'Alejandro Álex',\n",
       " 10: 'Javier Gil Antuñano Foncillas',\n",
       " 11: 'Antonio Leal',\n",
       " 12: 'Xeles',\n",
       " 13: 'Alfonso Garcia Mateo-Sagasta',\n",
       " 14: 'Estela Falgas',\n",
       " 15: 'Kapil Dadlani',\n",
       " 16: 'Andreea',\n",
       " 17: 'Daniel del Valle',\n",
       " 18: 'María Cagigas'}"
      ]
     },
     "metadata": {},
     "execution_count": 12
    }
   ],
   "source": [
    "seed = 12\n",
    "random.seed(seed)\n",
    "\n",
    "def get_key_from_value(dictionary, alumn):\n",
    "    return list(dictionary.keys())[list(dictionary.values()).index(alumn)]\n",
    "\n",
    "def create_presentation_shifts(students):\n",
    "    range_list = list(range(1, len(students) + 1))\n",
    "    random.shuffle(range_list)\n",
    "    student_turn_dict = dict(zip(range_list, students))\n",
    "    return {k: student_turn_dict[k] for k in sorted(student_turn_dict)}\n",
    "\n",
    "l = \"Leonardo Sánchez Soler\"\n",
    "j = \"Javier Gil Antuñano Foncillas\"\n",
    "\n",
    "turns = create_presentation_shifts(students=lista_alumnos)\n",
    "\"\"\"\n",
    "javier_turn = get_key_from_value(dictionary=turns, alumn=j)\n",
    "leo_turn = get_key_from_value(dictionary=turns, alumn=l)\n",
    "\n",
    "while leo_turn <= 12 or javier_turn >=  6:\n",
    "    seed += 1\n",
    "    turns = create_presentation_shifts(students=lista_alumnos)\n",
    "    javier_turn = get_key_from_value(dictionary=turns, alumn=j)\n",
    "    leo_turn = get_key_from_value(dictionary=turns, alumn=l)\n",
    "\"\"\"\n",
    "print(\"seed:\", seed)\n",
    "turns"
   ]
  },
  {
   "cell_type": "code",
   "execution_count": 13,
   "metadata": {},
   "outputs": [
    {
     "output_type": "stream",
     "name": "stdout",
     "text": [
      "María Cagigas\n"
     ]
    }
   ],
   "source": [
    "print(turns[18])"
   ]
  },
  {
   "cell_type": "code",
   "execution_count": 14,
   "metadata": {},
   "outputs": [
    {
     "output_type": "stream",
     "name": "stdout",
     "text": [
      "Kapil Dadlani\n"
     ]
    }
   ],
   "source": [
    "print(turns[15])"
   ]
  },
  {
   "cell_type": "code",
   "execution_count": 15,
   "metadata": {},
   "outputs": [
    {
     "output_type": "stream",
     "name": "stdout",
     "text": [
      "Leonardo Sánchez Soler\n"
     ]
    }
   ],
   "source": [
    "print(turns[7])"
   ]
  },
  {
   "cell_type": "code",
   "execution_count": 16,
   "metadata": {},
   "outputs": [
    {
     "output_type": "stream",
     "name": "stdout",
     "text": [
      "Javier Olcoz\n"
     ]
    }
   ],
   "source": [
    "print(turns[6])"
   ]
  },
  {
   "cell_type": "code",
   "execution_count": 18,
   "metadata": {},
   "outputs": [
    {
     "output_type": "stream",
     "name": "stdout",
     "text": [
      "Antonio Leal\n"
     ]
    }
   ],
   "source": [
    "print(turns[11])"
   ]
  },
  {
   "cell_type": "code",
   "execution_count": 19,
   "metadata": {},
   "outputs": [
    {
     "output_type": "stream",
     "name": "stdout",
     "text": [
      "Javier Gil Antuñano Foncillas\n"
     ]
    }
   ],
   "source": [
    "print(turns[10])"
   ]
  },
  {
   "cell_type": "code",
   "execution_count": null,
   "metadata": {},
   "outputs": [],
   "source": []
  }
 ]
}